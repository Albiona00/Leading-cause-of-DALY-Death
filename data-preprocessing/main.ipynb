{
 "cells": [
  {
   "cell_type": "code",
   "execution_count": null,
   "id": "initial_id",
   "metadata": {
    "collapsed": true
   },
   "outputs": [],
   "source": [
    "#Importimi i librarive\n",
    "import pandas as pd\n",
    "import numpy as np\n",
    "from sklearn.decomposition import PCA\n",
    "from sklearn.preprocessing import StandardScaler, LabelEncoder\n",
    "from scipy import stats\n",
    "import seaborn as sns\n",
    "import matplotlib.pyplot as plt"
   ]
  },
  {
   "cell_type": "code",
   "execution_count": null,
   "outputs": [],
   "source": [
    "# Lexo datasetin\n",
    "df = pd.read_csv(\"E:\\WHOData.csv\")"
   ],
   "metadata": {
    "collapsed": false
   },
   "id": "3907c0119d4c5778"
  },
  {
   "cell_type": "code",
   "execution_count": null,
   "outputs": [],
   "source": [
    "# Definimi i tipit të të dhënave\n",
    "data_types = df.dtypes"
   ],
   "metadata": {
    "collapsed": false
   },
   "id": "604d488da0cfc016"
  },
  {
   "cell_type": "code",
   "execution_count": null,
   "outputs": [],
   "source": [
    "print(data_types)"
   ],
   "metadata": {
    "collapsed": false
   },
   "id": "429b44008a541aa4"
  },
  {
   "cell_type": "code",
   "execution_count": null,
   "outputs": [],
   "source": [
    "# OUTLIERS - DATA QUALITY (NORMALIZIMI)\n",
    "# Assuming df is your DataFrame\n",
    "# Replace 'DEATHS_100K' with the actual column name you want to analyze\n",
    "\n",
    "column_name = 'DEATHS_100K'\n",
    "\n",
    "# Calculate the Z-scores\n",
    "z_scores = stats.zscore(df[column_name])\n",
    "\n",
    "# Set a threshold for considering values as outliers (e.g., Z-score > 3 or Z-score < -3)\n",
    "threshold = 3\n",
    "\n",
    "# Find the indices of outliers\n",
    "outlier_indices = abs(z_scores) > threshold\n",
    "\n",
    "# Create a DataFrame with outliers and their Z-scores\n",
    "outliers_df = pd.DataFrame({'Outliers': df[column_name][outlier_indices], 'Z-Scores': z_scores[outlier_indices]})\n",
    "\n",
    "# Print outliers and their Z-scores\n",
    "print(\"Outliers and Z-scores:\")\n",
    "print(outliers_df)\n",
    "\n",
    "# Remove outliers from the DataFrame\n",
    "df_without_outliers = df[~outlier_indices]\n",
    "\n",
    "# Print the dataset without outliers\n",
    "print(\"\\nDataset without Outliers:\")\n",
    "print(df_without_outliers)"
   ],
   "metadata": {
    "collapsed": false
   },
   "id": "868712298bc4cfe5"
  },
  {
   "cell_type": "code",
   "execution_count": null,
   "outputs": [],
   "source": [
    "# NOISE\n",
    "# Assuming df is your DataFrame\n",
    "# You can replace 'DEATHS_100K' with the column name you want to analyze\n",
    "\n",
    "column_name = 'DEATHS_100K'\n",
    "\n",
    "# Box plot to visualize potential outliers\n",
    "sns.boxplot(x=df[column_name])\n",
    "plt.title(f'Box plot of {column_name}')\n",
    "plt.show()\n",
    "\n",
    "column_name1 = 'DEATHS_100K'\n",
    "\n",
    "sns.boxplot(x=df[column_name1])\n",
    "plt.title(f'Box plot of {column_name1}')\n",
    "plt.show()\n",
    "\n",
    "-------------------\n",
    "# MISSING VALUES\n",
    "\n",
    "# Kontrollo për vlera të zbrazeta\n",
    "null_values = df.isnull().sum()\n",
    "print(null_values)"
   ],
   "metadata": {
    "collapsed": false
   },
   "id": "3688ffca8ead5b65"
  }
 ],
 "metadata": {
  "kernelspec": {
   "display_name": "Python 3",
   "language": "python",
   "name": "python3"
  },
  "language_info": {
   "codemirror_mode": {
    "name": "ipython",
    "version": 2
   },
   "file_extension": ".py",
   "mimetype": "text/x-python",
   "name": "python",
   "nbconvert_exporter": "python",
   "pygments_lexer": "ipython2",
   "version": "2.7.6"
  }
 },
 "nbformat": 4,
 "nbformat_minor": 5
}
