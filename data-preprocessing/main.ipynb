{
 "cells": [
  {
   "cell_type": "code",
   "execution_count": null,
   "id": "initial_id",
   "metadata": {
    "collapsed": true,
    "is_executing": true
   },
   "outputs": [],
   "source": [
    "# Import libraries\n",
    "import pandas as pd\n",
    "import numpy as np\n",
    "from sklearn.preprocessing import StandardScaler, LabelEncoder\n",
    "from scipy import stats\n",
    "import seaborn as sns\n",
    "import matplotlib.pyplot as plt"
   ]
  },
  {
   "cell_type": "code",
   "execution_count": null,
   "outputs": [],
   "source": [
    "# Read dataset\n",
    "df = pd.read_csv(\"E:\\WHOData.csv\")"
   ],
   "metadata": {
    "collapsed": false,
    "is_executing": true
   },
   "id": "3907c0119d4c5778"
  },
  {
   "cell_type": "code",
   "execution_count": null,
   "outputs": [],
   "source": [
    "# Define data types\n",
    "data_types = df.dtypes"
   ],
   "metadata": {
    "collapsed": false
   },
   "id": "604d488da0cfc016"
  },
  {
   "cell_type": "code",
   "execution_count": null,
   "outputs": [],
   "source": [
    "print(data_types)"
   ],
   "metadata": {
    "collapsed": false
   },
   "id": "429b44008a541aa4"
  },
  {
   "cell_type": "code",
   "execution_count": null,
   "outputs": [],
   "source": [
    "# Data quality\n",
    "\n",
    "# Identify outliers\n",
    "column_name = 'DEATHS_100K'\n",
    "\n",
    "# Calculate the Z-scores\n",
    "z_scores = stats.zscore(df[column_name])\n",
    "\n",
    "# Set a threshold for considering values as outliers (e.g., Z-score > 3 or Z-score < -3)\n",
    "threshold = 3\n",
    "\n",
    "# Find the indices of outliers\n",
    "outlier_indices = abs(z_scores) > threshold\n",
    "\n",
    "# Create a DataFrame with outliers and their Z-scores\n",
    "outliers_df = pd.DataFrame({'Outliers': df[column_name][outlier_indices], 'Z-Scores': z_scores[outlier_indices]})\n",
    "\n",
    "# Print outliers and their Z-scores\n",
    "print(\"Outliers and Z-scores:\")\n",
    "print(outliers_df)\n",
    "\n",
    "# Remove outliers from the DataFrame\n",
    "df_without_outliers = df[~outlier_indices]\n",
    "\n",
    "# Print the dataset without outliers\n",
    "print(\"\\nDataset without Outliers:\")\n",
    "print(df_without_outliers)"
   ],
   "metadata": {
    "collapsed": false
   },
   "id": "868712298bc4cfe5"
  },
  {
   "cell_type": "code",
   "execution_count": null,
   "outputs": [],
   "source": [
    "# Noises\n",
    "column_name = 'DEATHS_100K'\n",
    "\n",
    "# Box plot to visualize potential outliers\n",
    "sns.boxplot(x=df[column_name])\n",
    "plt.title(f'Box plot of {column_name}')\n",
    "plt.show()\n",
    "\n",
    "# Missing values\n",
    "# Check for Null values\n",
    "null_values = df.isnull().sum()\n",
    "print(null_values)"
   ],
   "metadata": {
    "collapsed": false
   },
   "id": "3688ffca8ead5b65"
  },
  {
   "cell_type": "code",
   "execution_count": null,
   "outputs": [],
   "source": [
    "# Check for unique values\n",
    "unique_values = df.nunique()\n",
    "print(unique_values) \n",
    " \n",
    "# Check for duplicate rows\n",
    "duplicates = df[df.duplicated()]\n",
    " \n",
    "# Print the duplicate rows, if any\n",
    "if not duplicates.empty:\n",
    "    print(\"Duplicate Rows:\")\n",
    "    print(duplicates)\n",
    "else:\n",
    "    print(\"No duplicate rows found.\")\n",
    " \n",
    "# Aggregation \n",
    "# Grouping by main causes and countries\n",
    "grouped_data = df.groupby(['COUNTRY_CODE', 'GHE_CAUSE_CODE'])\n",
    " \n",
    "# Data aggregation for death and DALY\n",
    "aggregated_data = grouped_data.agg({\n",
    "    'DEATHS': 'sum',\n",
    "    'DALY': 'sum'\n",
    "}).reset_index()\n",
    "print(aggregated_data)\n",
    " \n",
    "# Dimensionality reduction\n",
    "columns_to_remove = ['DEATHS_RATE', 'DALY_RATE']\n",
    "df = df.drop(columns=columns_to_remove)\n",
    "print(df)\n",
    " \n",
    "# Rename the columns\n",
    "df = df.rename(columns={'GHE_CAUSE_TITLE': 'GHE_CAUSE_NAME'})\n",
    "print(df['GHE_CAUSE_NAME'])\n",
    " \n",
    "# Sampling\n",
    "df.sample(5)"
   ],
   "metadata": {
    "collapsed": false
   },
   "id": "acc31d6971854dec"
  }
 ],
 "metadata": {
  "kernelspec": {
   "display_name": "Python 3",
   "language": "python",
   "name": "python3"
  },
  "language_info": {
   "codemirror_mode": {
    "name": "ipython",
    "version": 2
   },
   "file_extension": ".py",
   "mimetype": "text/x-python",
   "name": "python",
   "nbconvert_exporter": "python",
   "pygments_lexer": "ipython2",
   "version": "2.7.6"
  }
 },
 "nbformat": 4,
 "nbformat_minor": 5
}
